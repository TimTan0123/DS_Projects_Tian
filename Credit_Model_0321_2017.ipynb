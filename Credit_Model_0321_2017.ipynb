{
 "cells": [
  {
   "cell_type": "markdown",
   "metadata": {},
   "source": [
    "## Lending Club Predictive Credit Models\n",
    "\n",
    "**Intro**: Lending Club is an online Peer-to-Peer lender connecting borrowers and investors. They provide public data on the performance of their loans over time to provide transparency to the users of their online market place and curious data scientists. We can use this data to build our own credit model for the purpose of underwriting loans.\n",
    "\n",
    "**Objective**: Create a model to predict the probability of credit default on Lending Club loans originated between 2007-2011. These are a mix of prime and subprime loans designated by the Lending Club \"grade\" (A, B, F, G). Your objective is to create a model and increase the benchmark results. You are encouraged to play around with different types of feature engineering, modeling techniques, and validation framesworks toward the aim of maximizing loan performance on a test set. I  will also use the resulting model on a hidden test set which is not included.\n",
    "\n",
    "**Included Files**:\n",
    "- lending-club-split.ipdb\n",
    "- lending-club-environment.yml (This file contains an exported anaconda-virtualenv environment. This may be useful to set up your environment.)\n",
    "- LoanStats3a-split-train.csv\n",
    "- LoanStats3a-split-test.csv\n",
    "\n",
    "**Notes**: \n",
    "Below I've started you off with some setup for the problem.\n",
    "- Some imports\n",
    "- A mechamnism for loading the data\n",
    "- A benchmark result\n",
    "\n",
    "*Please do not share this document within anyone outside of our organization.*\n",
    "\n",
    "Once, completed. Save the jupyter notebook and return it to us."
   ]
  },
  {
   "cell_type": "code",
   "execution_count": 1,
   "metadata": {
    "collapsed": false
   },
   "outputs": [],
   "source": [
    "import os\n",
    "from os.path import normpath, join\n",
    "import csv\n",
    "import random\n",
    "import math\n",
    "\n",
    "import pandas as pd\n",
    "import numpy as np\n",
    "import sklearn\n",
    "import statsmodels.api as sm\n",
    "\n",
    "from sklearn.metrics import roc_curve, auc"
   ]
  },
  {
   "cell_type": "markdown",
   "metadata": {},
   "source": [
    "## Load data from csv\n",
    "** Load the data from the provided CSV. **  Assume csv is in the same directory as this Jupyter notebook."
   ]
  },
  {
   "cell_type": "code",
   "execution_count": 2,
   "metadata": {
    "collapsed": false,
    "scrolled": true
   },
   "outputs": [
    {
     "name": "stdout",
     "output_type": "stream",
     "text": [
      "train_filepath: /Users/MaxTan/GitHub/Private_Projects/lending-club-problem/LoanStats3a-split-train.csv\n",
      "test_filepath: /Users/MaxTan/GitHub/Private_Projects/lending-club-problem/LoanStats3a-split-test.csv\n"
     ]
    }
   ],
   "source": [
    "CURRENT_DIRECTORY = os.getcwd()\n",
    "TRAIN_CSV_NAME = \"LoanStats3a-split-train.csv\"\n",
    "TEST_CSV_NAME = \"LoanStats3a-split-test.csv\"\n",
    "train_filepath = normpath(join(CURRENT_DIRECTORY, TRAIN_CSV_NAME))\n",
    "test_filepath = normpath(join(CURRENT_DIRECTORY, TEST_CSV_NAME))\n",
    "\n",
    "print \"train_filepath: %s\" % train_filepath\n",
    "print \"test_filepath: %s\" % test_filepath\n",
    "\n",
    "with open(train_filepath, \"rb\") as f:\n",
    "    reader = csv.reader(f, delimiter=\",\")\n",
    "    headers = reader.next()\n",
    "    index = { h: i for i, h in enumerate(headers) }\n",
    "    train_rows = [ r for r in reader ]\n",
    "    \n",
    "with open(test_filepath, \"rb\") as f:\n",
    "    reader = csv.reader(f, delimiter=\",\")\n",
    "    headers = reader.next()\n",
    "    test_rows = [ r for r in reader ]"
   ]
  },
  {
   "cell_type": "markdown",
   "metadata": {},
   "source": [
    "## Performance Metric\n",
    "\n",
    "We use AUC (Area-under-the-curve) as an optimization metric. This is a popular metric within credit modeling."
   ]
  },
  {
   "cell_type": "code",
   "execution_count": 3,
   "metadata": {
    "collapsed": false
   },
   "outputs": [],
   "source": [
    "def calculate_auc(y, y_pred):\n",
    "    # y: an array of labels marking the actualy result as default (1) or non-default (0) \n",
    "    # y_pred: a probability that a row has defaulted\n",
    "    # fpr: false-positive rate\n",
    "    # tpr: true-positive rate\n",
    "    \n",
    "    fpr, tpr, thresholds = roc_curve(y, y_pred)\n",
    "    auc_score = auc(fpr, tpr)\n",
    "    return auc_score"
   ]
  },
  {
   "cell_type": "markdown",
   "metadata": {},
   "source": [
    "## Setup default (y) variable"
   ]
  },
  {
   "cell_type": "code",
   "execution_count": 4,
   "metadata": {
    "collapsed": false
   },
   "outputs": [
    {
     "name": "stdout",
     "output_type": "stream",
     "text": [
      "train_total: 15598\n",
      "test_total: 2198\n"
     ]
    }
   ],
   "source": [
    "def is_default(loan_status):\n",
    "    if loan_status.strip() in {\"Charged Off\", \"Default\"}:\n",
    "        return 1.0\n",
    "    elif loan_status.strip() == \"Fully Paid\":\n",
    "        return 0.0\n",
    "    raise Exception(\"Invalid status: %s\" % loan_status)\n",
    "\n",
    "y_train = np.array([ is_default(row[index[\"loan_status\"]]) for row in train_rows ])\n",
    "y_test = np.array([ is_default(row[index[\"loan_status\"]]) for row in test_rows ])\n",
    "\n",
    "print \"train_total: %s\" % len(y_train)\n",
    "print \"test_total: %s\" % len(y_test)"
   ]
  },
  {
   "cell_type": "markdown",
   "metadata": {},
   "source": [
    "## Random Guessing Example\n",
    "random guessing should produce an AUC score of ~0.5"
   ]
  },
  {
   "cell_type": "code",
   "execution_count": 5,
   "metadata": {
    "collapsed": false
   },
   "outputs": [
    {
     "name": "stdout",
     "output_type": "stream",
     "text": [
      "random-guess AUC: 0.496529054791\n"
     ]
    }
   ],
   "source": [
    "y_pred = [ random.choice([0.0, 1.0]) for _ in range(len(y_train)) ]\n",
    "auc_score = calculate_auc(y_train, y_pred)\n",
    "print \"random-guess AUC: %s\" % auc_score"
   ]
  },
  {
   "cell_type": "markdown",
   "metadata": {},
   "source": [
    "## Benchmark Model"
   ]
  },
  {
   "cell_type": "code",
   "execution_count": 6,
   "metadata": {
    "collapsed": false,
    "scrolled": true
   },
   "outputs": [
    {
     "name": "stdout",
     "output_type": "stream",
     "text": [
      "Optimization terminated successfully.\n",
      "         Current function value: 0.339197\n",
      "         Iterations 6\n",
      "Optimization terminated successfully.\n",
      "         Current function value: 0.339197\n",
      "         Iterations 6\n",
      "annual_inc-model AUC: 0.547115684308\n"
     ]
    }
   ],
   "source": [
    "# Set up a variable\n",
    "annual_inc_train = np.array([ math.log(float(row[index[\"annual_inc\"]])) for row in train_rows ])\n",
    "annual_inc_test = np.array([ math.log(float(row[index[\"annual_inc\"]])) for row in test_rows ])\n",
    "\n",
    "# Fit a model\n",
    "logit = sm.Logit(y_train, annual_inc_train)\n",
    "model = logit.fit()\n",
    "\n",
    "# Annual income results\n",
    "model = logit.fit()\n",
    "y_pred = model.predict(annual_inc_test)\n",
    "auc_score = calculate_auc(y_test, y_pred)\n",
    "print \"annual_inc-model AUC: %s\" % auc_score"
   ]
  },
  {
   "cell_type": "markdown",
   "metadata": {},
   "source": [
    "# Build your own models!\n",
    "Feel free to make use of anything in the Python universe to help out. Recommended: making use of sklearn and pandas.\n",
    "\n",
    "Also, free to refer to online resources related to credit modeling or the lending club data set without copying code."
   ]
  },
  {
   "cell_type": "markdown",
   "metadata": {},
   "source": [
    "## Tian's awesome model! :)"
   ]
  },
  {
   "cell_type": "markdown",
   "metadata": {},
   "source": [
    "#### import required packages:"
   ]
  },
  {
   "cell_type": "code",
   "execution_count": 7,
   "metadata": {
    "collapsed": false
   },
   "outputs": [],
   "source": [
    "import os\n",
    "import csv\n",
    "import pandas as pd\n",
    "import numpy as np\n",
    "import matplotlib.pyplot as plt\n",
    "import seaborn as sns\n",
    "import random\n",
    "import collections\n",
    "import statsmodels.api as sm\n",
    "import time\n",
    "from math import log\n",
    "from os.path import normpath, join\n",
    "from datetime import datetime\n",
    "from copy import copy, deepcopy\n",
    "from sklearn.linear_model import LogisticRegression\n",
    "from sklearn.linear_model import SGDClassifier\n",
    "from sklearn import svm\n",
    "from sklearn.ensemble import RandomForestClassifier\n",
    "from sklearn.ensemble import GradientBoostingClassifier\n",
    "from sklearn.cross_validation import KFold\n",
    "from sklearn.metrics import roc_curve, auc\n",
    "from sklearn.metrics import classification_report\n",
    "from sklearn.feature_selection import SelectKBest\n",
    "from sklearn.feature_selection import chi2\n",
    "%matplotlib inline\n",
    "pd.options.display.max_columns = 100\n",
    "date_now =datetime.now()"
   ]
  },
  {
   "cell_type": "code",
   "execution_count": 11,
   "metadata": {
    "collapsed": false
   },
   "outputs": [],
   "source": [
    "def is_default(loan_status):\n",
    "    \"\"\"\n",
    "    set default variable y function\n",
    "    \"\"\"\n",
    "    if loan_status.strip() in {\"Charged Off\", \"Default\"}:\n",
    "        return 1.0\n",
    "    elif loan_status.strip() == \"Fully Paid\":\n",
    "        return 0.0\n",
    "    raise Exception(\"Invalid status: %s\" % loan_status)\n",
    "    \n",
    "    \n",
    "def calculate_auc(y, y_pred):\n",
    "    \"\"\"\n",
    "    calculating AUC function\n",
    "    \"\"\"\n",
    "    # y: an array of labels marking the actualy result as default (1) or non-default (0) \n",
    "    # y_pred: a probability that a row has defaulted\n",
    "    # fpr: false-positive rate\n",
    "    # tpr: true-positive rate\n",
    "    \n",
    "    fpr, tpr, thresholds = roc_curve(y, y_pred)\n",
    "    auc_score = auc(fpr, tpr)\n",
    "    return auc_score\n",
    "\n",
    "\n",
    "def feature_engieering(tempdf,temp_y):\n",
    "    \"\"\"\n",
    "    feature engineering function:\n",
    "    \n",
    "    input: \n",
    "    tempdf is original training dataframe or test dataframe\n",
    "    temp_y is original training labels or test labels\n",
    "    \n",
    "    output: \n",
    "    return a new dataframe with selected features and proper transformations\n",
    "    \"\"\"\n",
    "    #In the first place, after data exploration, I decided to remove the following variables,\n",
    "    #since they don't have too much important information according to their distributions.\n",
    "    del_feat = [\"id\",\"member_id\",\"emp_title\",\"loan_status\",\"pymnt_plan\",\"url\",'desc','title',\n",
    "                \"initial_list_status\",\"out_prncp\",\"out_prncp_inv\",\"next_pymnt_d\",\"policy_code\",\"random\",\n",
    "                \"zip_code\"]\n",
    "    #But if I have time, I will use some NLP techiniques to extract important information from variables like \"desc\",\n",
    "    #which might be helpful for the classification;\n",
    "    \n",
    "    tempdf = tempdf[[col for col in tempdf.columns if col not in del_feat]]\n",
    "    \n",
    "    #step 1: change term from string to int: \n",
    "    #The Number of payments on the loan. Values are in months and can be either 36 or 60.\n",
    "    tempdf.ix[:,'term'] = map(lambda x: int(x.split()[0]),tempdf.term)\n",
    "\n",
    "    #step 2: change issue_d,earliest_cr_line,last_pymnt_d,last_credit_pull_d from string to timestamp:\n",
    "    #issue_d: \"Dec-2011\"\n",
    "    tempdf.ix[:,'issue_d']= map(lambda x:(date_now-datetime.strptime(x,\"%b-%Y\")).days/30, tempdf.issue_d)\n",
    "\n",
    "    #earliest_cr_line: \"Aug-1993\"\n",
    "    #The date the borrower's earliest reported credit line was opened\n",
    "    tempdf.ix[:,'earliest_cr_line']= map(lambda x:(date_now-datetime.strptime(x,\"%b-%Y\")).days/30, tempdf.earliest_cr_line)\n",
    "\n",
    "    #last_pymnt_d: \"May-2013\"\n",
    "    tempdf.ix[:,'last_pymnt_d'] = tempdf['last_pymnt_d'].fillna('Jan-2007')\n",
    "    tempdf.ix[:,'last_pymnt_d']= map(lambda x:(date_now-datetime.strptime(x,\"%b-%Y\")).days/30, tempdf.last_pymnt_d)\n",
    "\n",
    "    #last_credit_pull_d: \"May-2014\"\n",
    "    #The date LC pulled credit for this loan\n",
    "    tempdf.ix[:,'last_credit_pull_d'] =tempdf['last_credit_pull_d'].fillna('Jan-2007')\n",
    "    tempdf.ix[:,'last_credit_pull_d']= map(lambda x:(date_now-datetime.strptime(x,\"%b-%Y\")).days/30, tempdf.last_credit_pull_d)\n",
    "\n",
    "    #step 3: change revol_util from string and NaN to int:\n",
    "    #Only 6 NaN found in the training set, so we replace them with 0% or median:\n",
    "    #Revolving line utilization rate, or the amount of credit the borrower is using relative to all available revolving credit.\n",
    "    tempdf.ix[:,'revol_util'] = tempdf['revol_util'].fillna('0%')\n",
    "    tempdf.ix[:,'revol_util'] = map(lambda x:float(str(x)[:-1])/100,tempdf.revol_util)\n",
    "\n",
    "    #step 4: change mths_since_last_delinq and mths_since_last_record from numerics(with NA) to no NA by using 999(large value).\n",
    "    #The Number of months since the borrower's last delinquency.\n",
    "    #So I decided to fill Na with very large values.\n",
    "    tempdf.ix[:,'mths_since_last_delinq']= tempdf['mths_since_last_delinq'].fillna(999)\n",
    "    #The Number of months since the last public record.\n",
    "    tempdf.ix[:,'mths_since_last_record']= tempdf['mths_since_last_record'].fillna(999)\n",
    "\n",
    "    #step 5: change emp_length from categorical to binary variable indicating if emp_length is more than a decade:\n",
    "    #Employment length in months. Possible values are whole numbers from 0 and higher. Null indicates not employed.\n",
    "    tempdf.ix[:,'emp_length']= map(lambda x: 10 if '10' in x else 0,tempdf.emp_length)\n",
    "\n",
    "    #step 6: log or box-cox tranformation:\n",
    "    \n",
    "    #take log transformation towards certain variables based on their distribution plots:\n",
    "    #annual_inc:The annual income provided by the borrower during registration.\n",
    "    #revol_bal:Total credit revolving balance.\n",
    "    log_feat = [\"annual_inc\",'revol_bal']\n",
    "    for col in log_feat:\n",
    "        tempdf.ix[:,col] = map(lambda x: log(x+1),tempdf.ix[:,col])\n",
    "    \n",
    "    #step 7: standardization:\n",
    "    #find all continuous variables:\n",
    "    num_feat = tempdf._get_numeric_data().columns\n",
    "    #standardization if necessary: But it is proved that standardization didn't help\n",
    "    #tempdf.ix[:,num_feat] = tempdf.ix[:,num_feat].apply(lambda x: (x - np.mean(x)) / (np.max(x) - np.min(x)))\n",
    "    tempdf.ix[:,['mths_since_last_delinq','mths_since_last_record']] = tempdf.ix[:,['mths_since_last_delinq','mths_since_last_record']].apply(lambda x: (x - np.mean(x)) / (np.max(x) - np.min(x)))\n",
    "    \n",
    "    #Data visualization:\n",
    "    \"\"\"\n",
    "    #check distribution of each distributions:\n",
    "    \n",
    "    for col in num_feat:\n",
    "        plot = tempdf[[col]].iloc[:,:].plot(marker='*',title =col, color=\"g\", linewidth=0.01)\n",
    "        fig = plot.get_figure()\n",
    "        fig.savefig(col+\".png\")\n",
    "    \"\"\"\n",
    "    \n",
    "    #raise exception if any missing value!!\n",
    "    for col in tempdf.columns:\n",
    "        if tempdf.ix[:,col].isnull().sum():\n",
    "            raise Exception('Failed because there are '+str(tempdf.ix[:,col].isnull().sum())+' missing values in the feature: '+str(col))\n",
    "\n",
    "    tempdf = pd.get_dummies(tempdf,dummy_na=True)\n",
    "    tempdf.ix[:,'y'] = pd.Series(temp_y,index = tempdf.index)\n",
    "    \n",
    "    return tempdf\n",
    "\n",
    "def cross_validation(X_train,feats):\n",
    "    \"\"\"\n",
    "    cross validation function\n",
    "    \"\"\"\n",
    "    #print X_train.shape,len(feats)\n",
    "    kfolding = KFold(n = len(X_train),n_folds = 10, shuffle =True)\n",
    "    cv_scores = []\n",
    "    for train_idx, validation_idx in kfolding:\n",
    "        \n",
    "        train_X = X_train.ix[train_idx,feats]#all_feat]\n",
    "        test_X = X_train.ix[validation_idx,feats]#all_feat]\n",
    "        train_y = X_train.ix[train_idx,'y']\n",
    "        test_y = X_train.ix[validation_idx,'y']\n",
    "        \n",
    "        #1. Logistic Regression:\n",
    "        #model = LogisticRegression().fit(train_X,train_y)#->CV:0.82, TEST:0.82\n",
    "        \n",
    "        #2. Support Vector Machine:\n",
    "        #model = svm.SVC(probability=True).fit(train_X,train_y)#too slow!!!\n",
    "        #model = svm.LinearSVC().fit(train_X,train_y)\n",
    "        \n",
    "        #3. Random Forest(best):\n",
    "        model = RandomForestClassifier(n_estimators=50).fit(train_X,train_y)#->CV:0.87,TEST:0.97 RECALL OF 1:0.64(50 trees)\n",
    "        \n",
    "        #4. GBDT:\n",
    "        #model = GradientBoostingClassifier(n_estimators=50).fit(train_X,train_y)#->:CV:0.88,TEST:0.91 RECALL OF 1:0.15(50 trees)\n",
    "        \n",
    "        #pred_y = model.decision_function(test_X)#only when use SVC;\n",
    "        pred_y = model.predict_proba(test_X)[:,1]\n",
    "\n",
    "        auc_score = calculate_auc(test_y, pred_y)\n",
    "        cv_scores.append(auc_score)\n",
    "    return model,np.mean(cv_scores)\n",
    "\n",
    "def test_function(model):\n",
    "    \"\"\"\n",
    "    test function\n",
    "    \"\"\"\n",
    "    y_res = model.predict(X_test.ix[:,imp_feat])\n",
    "    y_pred = model.predict_proba(X_test.ix[:,imp_feat])[:,1]\n",
    "    auc_score = calculate_auc(y_test, y_pred)\n",
    "\n",
    "    #print out the metric report:\n",
    "    print classification_report([int(i) for i in y_test], [int(i) for i in y_res])\n",
    "    \n",
    "    return auc_score\n",
    "\n",
    "def plot_num_feat(clf):\n",
    "    \"\"\"\"\"\"\n",
    "    #print len(clf.feature_importances_),len(all_feat)\n",
    "    cv = []\n",
    "    rg = range(1,50,2)\n",
    "    for k in rg:\n",
    "        imp_feat = [j for (i,j) in sorted(zip(clf.feature_importances_,all_feat),reverse=True)[:k]]\n",
    "        #print len(imp_feat)\n",
    "        _,mean_auc = cross_validation(X_train,imp_feat)\n",
    "        cv.append(mean_auc)\n",
    "\n",
    "    plt.plot(rg,cv)\n",
    "    plt.xlabel('Number of Features', fontsize=18)\n",
    "    plt.ylabel('Mean AUC', fontsize=16) \n",
    "    plt.title('Relationship between Number of Features and Mean AUC')\n",
    "    plt.show()\n",
    "    plt.savefig('Relationship between Number of Features and Mean AUC.jpg')\n",
    "    plt.close()"
   ]
  },
  {
   "cell_type": "code",
   "execution_count": 12,
   "metadata": {
    "collapsed": false
   },
   "outputs": [
    {
     "data": {
      "image/png": "[encoded data removed]",
      "text/plain": [
       "<matplotlib.figure.Figure at 0x11475a690>"
      ]
     },
     "metadata": {},
     "output_type": "display_data"
    },
    {
     "name": "stdout",
     "output_type": "stream",
     "text": [
      "The mean AUC score of cross validation on training data is:\n",
      "0.922447829075\n",
      "             precision    recall  f1-score   support\n",
      "\n",
      "          0       0.97      1.00      0.98      1957\n",
      "          1       0.97      0.77      0.86       241\n",
      "\n",
      "avg / total       0.97      0.97      0.97      2198\n",
      "\n",
      "The AUC score of test data is:\n",
      "0.984207133876\n",
      "--- 258.171395063 seconds ---\n"
     ]
    }
   ],
   "source": [
    "# main function:\n",
    "start_time  = time.time()\n",
    "if __name__ == '__main__':\n",
    "    \n",
    "    CURRENT_DIRECTORY = os.getcwd()\n",
    "    TRAIN_CSV_NAME = \"LoanStats3a-split-train.csv\"\n",
    "    TEST_CSV_NAME = \"LoanStats3a-split-test.csv\" #Please change the name to HIDDEN_CSV_NAME here :)\n",
    "\n",
    "    train_filepath = normpath(join(CURRENT_DIRECTORY, TRAIN_CSV_NAME))\n",
    "    test_filepath = normpath(join(CURRENT_DIRECTORY, TEST_CSV_NAME))\n",
    "    \n",
    "    #read in data from csv files based on previous path\n",
    "    traindf = pd.read_csv(train_filepath)\n",
    "    testdf = pd.read_csv(test_filepath)\n",
    "    \n",
    "    #run is_default function to create new response variable y:\n",
    "    y_train = np.array([ is_default(row) for row in traindf.loan_status ])\n",
    "    y_test = np.array([ is_default(row) for row in testdf.loan_status ])\n",
    "    \n",
    "    #run feature enginering to obtain new data frames:\n",
    "    X_train = feature_engieering(traindf,y_train)\n",
    "    X_test = feature_engieering(testdf,y_test)\n",
    "\n",
    "    #obtain the common features for both training and test datasets:\n",
    "    all_feat = list(set(X_train.columns).intersection(set(X_test.columns)).difference({'y'}))\n",
    "    \n",
    "    #feature selection:\n",
    "    #method 1: choose feature by random forest importance;\n",
    "    clf = RandomForestClassifier(n_estimators=10).fit(X_train.ix[:,all_feat],y_train)\n",
    "    \n",
    "    \n",
    "    #decide how many important features should we use:\n",
    "    plot_num_feat(clf)\n",
    "    \n",
    "    #method 2: chi square test to select features: (next step!!)\n",
    "    #print SelectKBest(chi2, k=20).fit_transform(X_train, y_train).columns\n",
    "    \n",
    "    #according to the plot, the number of features can be decided:\n",
    "    imp_feat = [j for (i,j) in sorted(zip(clf.feature_importances_,all_feat),reverse=True)[:5]]\n",
    "    \n",
    "\n",
    "    #cross_validation function:\n",
    "    model,mean_auc = cross_validation(X_train,imp_feat)\n",
    "    print 'The mean AUC score of cross validation on training data is:\\n',str(mean_auc)\n",
    "\n",
    "    #run test_function on test or hidden test set:\n",
    "    test_auc = test_function(model)\n",
    "    print 'The AUC score of test data is:\\n',str(test_auc)\n",
    "\n",
    "print(\"--- %s seconds ---\" % (time.time() - start_time))"
   ]
  },
  {
   "cell_type": "code",
   "execution_count": 10,
   "metadata": {
    "collapsed": false,
    "scrolled": true
   },
   "outputs": [
    {
     "data": {
      "text/plain": [
       "['last_credit_pull_d', 'last_pymnt_d', 'revol_util', 'issue_d', 'dti']"
      ]
     },
     "execution_count": 10,
     "metadata": {},
     "output_type": "execute_result"
    }
   ],
   "source": [
    "imp_feat[:20]"
   ]
  },
  {
   "cell_type": "code",
   "execution_count": null,
   "metadata": {
    "collapsed": true
   },
   "outputs": [],
   "source": []
  },
  {
   "cell_type": "code",
   "execution_count": null,
   "metadata": {
    "collapsed": true
   },
   "outputs": [],
   "source": []
  },
  {
   "cell_type": "code",
   "execution_count": null,
   "metadata": {
    "collapsed": true
   },
   "outputs": [],
   "source": []
  },
  {
   "cell_type": "code",
   "execution_count": null,
   "metadata": {
    "collapsed": true
   },
   "outputs": [],
   "source": []
  },
  {
   "cell_type": "code",
   "execution_count": null,
   "metadata": {
    "collapsed": true
   },
   "outputs": [],
   "source": []
  },
  {
   "cell_type": "code",
   "execution_count": null,
   "metadata": {
    "collapsed": true
   },
   "outputs": [],
   "source": []
  },
  {
   "cell_type": "code",
   "execution_count": null,
   "metadata": {
    "collapsed": true
   },
   "outputs": [],
   "source": []
  },
  {
   "cell_type": "code",
   "execution_count": null,
   "metadata": {
    "collapsed": true
   },
   "outputs": [],
   "source": []
  },
  {
   "cell_type": "code",
   "execution_count": null,
   "metadata": {
    "collapsed": true
   },
   "outputs": [],
   "source": []
  },
  {
   "cell_type": "code",
   "execution_count": null,
   "metadata": {
    "collapsed": true
   },
   "outputs": [],
   "source": []
  },
  {
   "cell_type": "code",
   "execution_count": null,
   "metadata": {
    "collapsed": true
   },
   "outputs": [],
   "source": []
  },
  {
   "cell_type": "code",
   "execution_count": null,
   "metadata": {
    "collapsed": true
   },
   "outputs": [],
   "source": []
  },
  {
   "cell_type": "code",
   "execution_count": null,
   "metadata": {
    "collapsed": true
   },
   "outputs": [],
   "source": []
  },
  {
   "cell_type": "code",
   "execution_count": null,
   "metadata": {
    "collapsed": true
   },
   "outputs": [],
   "source": []
  },
  {
   "cell_type": "code",
   "execution_count": null,
   "metadata": {
    "collapsed": true
   },
   "outputs": [],
   "source": []
  },
  {
   "cell_type": "markdown",
   "metadata": {},
   "source": [
    "### Data Exploration to Play Around:"
   ]
  },
  {
   "cell_type": "code",
   "execution_count": 71,
   "metadata": {
    "collapsed": false
   },
   "outputs": [
    {
     "data": {
      "text/plain": [
       "((15598, 36), (2198, 36))"
      ]
     },
     "execution_count": 71,
     "metadata": {},
     "output_type": "execute_result"
    }
   ],
   "source": [
    "traindf.shape,testdf.shape"
   ]
  },
  {
   "cell_type": "markdown",
   "metadata": {},
   "source": [
    "#### check missing values:"
   ]
  },
  {
   "cell_type": "code",
   "execution_count": 72,
   "metadata": {
    "collapsed": false
   },
   "outputs": [
    {
     "name": "stdout",
     "output_type": "stream",
     "text": [
      "('emp_title', 1073)\n",
      "('desc', 5159)\n",
      "('title', 4)\n",
      "('mths_since_last_delinq', 11266)\n",
      "('mths_since_last_record', 14772)\n",
      "('revol_util', 7)\n",
      "('last_pymnt_d', 18)\n",
      "('next_pymnt_d', 15597)\n",
      "('last_credit_pull_d', 2)\n"
     ]
    }
   ],
   "source": [
    "labels = []\n",
    "values = []\n",
    "for col in traindf.columns:\n",
    "    if traindf[col].isnull().sum():\n",
    "        labels.append(col)\n",
    "        values.append(traindf[col].isnull().sum())\n",
    "        if values[-1]: print(col, values[-1])"
   ]
  },
  {
   "cell_type": "code",
   "execution_count": 15,
   "metadata": {
    "collapsed": false
   },
   "outputs": [],
   "source": [
    "mis_feat = labels"
   ]
  },
  {
   "cell_type": "code",
   "execution_count": 21,
   "metadata": {
    "collapsed": false
   },
   "outputs": [
    {
     "name": "stdout",
     "output_type": "stream",
     "text": [
      "['emp_title', 'desc', 'title', 'mths_since_last_delinq', 'mths_since_last_record', 'revol_util', 'last_pymnt_d', 'next_pymnt_d', 'last_credit_pull_d']\n",
      "['id', 'member_id', 'emp_title', 'loan_status', 'pymnt_plan', 'url', 'out_prncp', 'out_prncp_inv', 'initial_list_status', 'next_pymnt_d', 'policy_code', 'random', 'desc', 'title', 'zip_code', 'revol_util', 'mths_since_last_delinq', 'mths_since_last_record']\n"
     ]
    }
   ],
   "source": [
    "#print cat_feat\n",
    "#print num_feat\n",
    "print mis_feat\n",
    "print del_feat\n",
    "#print all_feat"
   ]
  },
  {
   "cell_type": "code",
   "execution_count": 13,
   "metadata": {
    "collapsed": false
   },
   "outputs": [
    {
     "name": "stdout",
     "output_type": "stream",
     "text": [
      "('emp_title', 144)\n",
      "('desc', 792)\n",
      "('title', 2)\n",
      "('mths_since_last_delinq', 1564)\n",
      "('mths_since_last_record', 2074)\n",
      "('revol_util', 1)\n",
      "('last_pymnt_d', 1)\n",
      "('next_pymnt_d', 2198)\n"
     ]
    }
   ],
   "source": [
    "#test data set:\n",
    "labels = []\n",
    "values = []\n",
    "for col in testdf.columns:\n",
    "    labels.append(col)\n",
    "    values.append(testdf[col].isnull().sum())\n",
    "    if values[-1]:\n",
    "        print(col, values[-1])"
   ]
  },
  {
   "cell_type": "markdown",
   "metadata": {
    "collapsed": true
   },
   "source": [
    "#### check different values for each feature:"
   ]
  },
  {
   "cell_type": "code",
   "execution_count": 14,
   "metadata": {
    "collapsed": false
   },
   "outputs": [
    {
     "name": "stdout",
     "output_type": "stream",
     "text": [
      "id 15598 *** member_id 15598 *** term 2 *** emp_title 12236 *** emp_length 12 *** home_ownership 5 *** annual_inc 2611 *** verification_status 3 *** issue_d 54 *** loan_status 3 *** pymnt_plan 1 *** url 15598 *** desc 10351 *** purpose 14 *** title 8627 *** zip_code 769 *** addr_state 50 *** dti 2709 *** delinq_2yrs 8 *** earliest_cr_line 492 *** inq_last_6mths 9 *** mths_since_last_delinq 11354 *** mths_since_last_record 14860 *** open_acc 38 *** pub_rec 5 *** revol_bal 11494 *** revol_util 1021 *** total_acc 71 *** initial_list_status 1 *** out_prncp 2 *** out_prncp_inv 2 *** last_pymnt_d 93 *** next_pymnt_d 2 *** last_credit_pull_d 95 *** policy_code 1 *** random 7 ***\n"
     ]
    }
   ],
   "source": [
    "tempdf = traindf\n",
    "for col in tempdf:\n",
    "    print col,len(set(tempdf[col])),\"***\","
   ]
  },
  {
   "cell_type": "code",
   "execution_count": 15,
   "metadata": {
    "collapsed": false
   },
   "outputs": [
    {
     "name": "stdout",
     "output_type": "stream",
     "text": [
      "id 2198 *** member_id 2198 *** term 2 *** emp_title 1951 *** emp_length 12 *** home_ownership 4 *** annual_inc 626 *** verification_status 3 *** issue_d 53 *** loan_status 2 *** pymnt_plan 1 *** url 2198 *** desc 1402 *** purpose 14 *** title 1489 *** zip_code 537 *** addr_state 45 *** dti 1467 *** delinq_2yrs 7 *** earliest_cr_line 368 *** inq_last_6mths 8 *** mths_since_last_delinq 1648 *** mths_since_last_record 2122 *** open_acc 28 *** pub_rec 3 *** revol_bal 2045 *** revol_util 855 *** total_acc 62 *** initial_list_status 1 *** out_prncp 1 *** out_prncp_inv 1 *** last_pymnt_d 86 *** next_pymnt_d 2198 *** last_credit_pull_d 80 *** policy_code 1 *** random 1 ***\n"
     ]
    }
   ],
   "source": [
    "tempdf = testdf\n",
    "for col in tempdf:\n",
    "    print col,len(set(tempdf[col])),\"***\","
   ]
  },
  {
   "cell_type": "code",
   "execution_count": null,
   "metadata": {
    "collapsed": true
   },
   "outputs": [],
   "source": []
  },
  {
   "cell_type": "markdown",
   "metadata": {},
   "source": [
    "### Feature Count and Category Exploration:"
   ]
  },
  {
   "cell_type": "code",
   "execution_count": 34,
   "metadata": {
    "collapsed": false
   },
   "outputs": [
    {
     "data": {
      "text/plain": [
       "15598"
      ]
     },
     "execution_count": 34,
     "metadata": {},
     "output_type": "execute_result"
    }
   ],
   "source": [
    "len(set(traindf.id.values))"
   ]
  },
  {
   "cell_type": "code",
   "execution_count": 33,
   "metadata": {
    "collapsed": false,
    "scrolled": true
   },
   "outputs": [
    {
     "data": {
      "text/plain": [
       "15598"
      ]
     },
     "execution_count": 33,
     "metadata": {},
     "output_type": "execute_result"
    }
   ],
   "source": [
    "len(set(traindf.member_id.values))"
   ]
  },
  {
   "cell_type": "code",
   "execution_count": 35,
   "metadata": {
    "collapsed": false
   },
   "outputs": [
    {
     "data": {
      "text/plain": [
       "2"
      ]
     },
     "execution_count": 35,
     "metadata": {},
     "output_type": "execute_result"
    }
   ],
   "source": [
    "len(set(traindf.term))"
   ]
  },
  {
   "cell_type": "code",
   "execution_count": 43,
   "metadata": {
    "collapsed": false
   },
   "outputs": [
    {
     "name": "stdout",
     "output_type": "stream",
     "text": [
      "12236\n",
      "[(nan, 1073), ('US Army', 42), ('Bank of America', 41), ('IBM', 26), ('AT&T', 20), ('UPS', 20), ('Lockheed Martin', 20), ('Wells Fargo', 19), ('US Air Force', 18), ('State of California', 17)]\n"
     ]
    }
   ],
   "source": [
    "print len(set(traindf.emp_title))\n",
    "dc1 = collections.Counter(traindf.emp_title)\n",
    "print [(key,dc1[key]) for key in sorted(dc1, key=dc1.get,reverse=True)[:10]]"
   ]
  },
  {
   "cell_type": "code",
   "execution_count": 47,
   "metadata": {
    "collapsed": false
   },
   "outputs": [
    {
     "name": "stdout",
     "output_type": "stream",
     "text": [
      "12\n",
      "[('10+ years', 3466), ('< 1 year', 1743), ('2 years', 1709), ('3 years', 1630), ('5 years', 1320), ('4 years', 1312), ('1 year', 1270), ('6 years', 879), ('7 years', 700), ('8 years', 584), ('9 years', 497), ('n/a', 488)]\n"
     ]
    }
   ],
   "source": [
    "print len(set(traindf.emp_length))\n",
    "dc1 = collections.Counter(traindf.emp_length)\n",
    "print [(key,dc1[key]) for key in sorted(dc1, key=dc1.get,reverse=True)[:20]]"
   ]
  },
  {
   "cell_type": "code",
   "execution_count": 48,
   "metadata": {
    "collapsed": false
   },
   "outputs": [
    {
     "name": "stdout",
     "output_type": "stream",
     "text": [
      "5\n",
      "[('MORTGAGE', 7211), ('RENT', 7096), ('OWN', 1249), ('OTHER', 40), ('NONE', 2)]\n"
     ]
    }
   ],
   "source": [
    "print len(set(traindf.home_ownership))\n",
    "dc1 = collections.Counter(traindf.home_ownership)\n",
    "print [(key,dc1[key]) for key in sorted(dc1, key=dc1.get,reverse=True)[:10]]"
   ]
  },
  {
   "cell_type": "code",
   "execution_count": 50,
   "metadata": {
    "collapsed": false
   },
   "outputs": [
    {
     "name": "stdout",
     "output_type": "stream",
     "text": [
      "3\n",
      "[('not verified', 7339), ('VERIFIED - income', 4391), ('VERIFIED - income source', 3868)]\n"
     ]
    }
   ],
   "source": [
    "print len(set(traindf.verification_status))\n",
    "dc1 = collections.Counter(traindf.verification_status)\n",
    "print [(key,dc1[key]) for key in sorted(dc1, key=dc1.get,reverse=True)[:10]]"
   ]
  },
  {
   "cell_type": "code",
   "execution_count": 163,
   "metadata": {
    "collapsed": false
   },
   "outputs": [
    {
     "name": "stdout",
     "output_type": "stream",
     "text": [
      "54\n",
      "[('Nov-2011', 923), ('Oct-2011', 898), ('Sep-2011', 888), ('Dec-2011', 808), ('Aug-2011', 776), ('Jul-2011', 738), ('Jun-2011', 730), ('Apr-2011', 598), ('May-2011', 584), ('Jan-2011', 568), ('Feb-2011', 557), ('Dec-2010', 518), ('Mar-2011', 513), ('Nov-2010', 461), ('Jul-2010', 437), ('Oct-2010', 413), ('Sep-2010', 412), ('Aug-2010', 410), ('Jun-2010', 400), ('May-2010', 365), ('Apr-2010', 325), ('Mar-2010', 308), ('Dec-2009', 265), ('Jan-2010', 238), ('Feb-2010', 237), ('Nov-2009', 227), ('Oct-2009', 225), ('Sep-2009', 188), ('Aug-2009', 172), ('Jun-2009', 157), ('Jul-2009', 150), ('May-2009', 139), ('Apr-2009', 95), ('Jan-2009', 85), ('Mar-2008', 77), ('Nov-2008', 77), ('Dec-2008', 73), ('Mar-2009', 72), ('Feb-2009', 70), ('Feb-2008', 63), ('Jan-2008', 60), ('Apr-2008', 54), ('Oct-2008', 39), ('Jul-2008', 33), ('Jun-2008', 25), ('Aug-2008', 24), ('May-2008', 24), ('Dec-2007', 23), ('Aug-2007', 17), ('Nov-2007', 15)]\n"
     ]
    }
   ],
   "source": [
    "print len(set(traindf.issue_d))\n",
    "dc1 = collections.Counter(traindf.issue_d)\n",
    "print [(key,dc1[key]) for key in sorted(dc1, key=dc1.get,reverse=True)[:50]]"
   ]
  },
  {
   "cell_type": "code",
   "execution_count": 55,
   "metadata": {
    "collapsed": false
   },
   "outputs": [
    {
     "name": "stdout",
     "output_type": "stream",
     "text": [
      "3\n",
      "[('Fully Paid', 13923), ('Charged Off', 1674), ('Default', 1)]\n"
     ]
    }
   ],
   "source": [
    "print len(set(traindf.loan_status))\n",
    "dc1 = collections.Counter(traindf.loan_status)\n",
    "print [(key,dc1[key]) for key in sorted(dc1, key=dc1.get,reverse=True)[:10]]"
   ]
  },
  {
   "cell_type": "code",
   "execution_count": 57,
   "metadata": {
    "collapsed": false
   },
   "outputs": [
    {
     "name": "stdout",
     "output_type": "stream",
     "text": [
      "1\n"
     ]
    }
   ],
   "source": [
    "print len(set(traindf.pymnt_plan))\n",
    "#pymnt plan and url are discarded?"
   ]
  },
  {
   "cell_type": "code",
   "execution_count": 59,
   "metadata": {
    "collapsed": false
   },
   "outputs": [
    {
     "name": "stdout",
     "output_type": "stream",
     "text": [
      "10351\n",
      "[(nan, 5159), (' ', 82), ('Camping Membership', 4), ('Debt consolidation loan', 2), ('credit card debt consolidation', 2), ('Personal loan', 2), ('Consolidate', 2), ('Debt consolidation', 2), (\"Dear Lending Club lenders,   This is the 1st loan that I plan to take out to instill confidence in my ability to pay the loan, as well as any future loans that I may ask for in the future. Further, I may look to invest on LC as part of my portfolio building plan.   My current income is $98,000 a year as a senior project manager at a glass building plant in PA, with an annual bonus of $15k. I don't really need this loan. I will most likely pay it off within 2 months to see how LC works. Once I gain familiarity with the structure of P2P lending/borrowing, I will then consider LC as a viable option as an investment/borrowing tool.   I have excellent credit rating of 780, a DTI of less than 20%, and a history of personal credit that is well above the average American starting from 1993 on my Equifax PLUS report.    Thank you. \", 1), (\"  Borrower added on 06/12/11 > I plan to use this loan to pay off credit card debt.  I currently pay well over the minimum amount but would like to avoid paying high interest payments to credit card companies.  I have great credit and continue to improve my score.  I have a stable job with consistent income.  I'm 8 years into my career and have spent the last 4 years with the same company.<br/>\", 1)]\n"
     ]
    }
   ],
   "source": [
    "print len(set(traindf.desc))\n",
    "dc1 = collections.Counter(traindf.desc)\n",
    "print [(key,dc1[key]) for key in sorted(dc1, key=dc1.get,reverse=True)[:10]]"
   ]
  },
  {
   "cell_type": "code",
   "execution_count": 62,
   "metadata": {
    "collapsed": false
   },
   "outputs": [
    {
     "name": "stdout",
     "output_type": "stream",
     "text": [
      "14\n",
      "[('debt_consolidation', 6827), ('credit_card', 2158), ('other', 1605), ('home_improvement', 1266), ('major_purchase', 991), ('car', 718), ('small_business', 644), ('wedding', 372), ('medical', 289), ('moving', 251), ('vacation', 163), ('house', 146), ('educational', 122), ('renewable_energy', 46)]\n"
     ]
    }
   ],
   "source": [
    "print len(set(traindf.purpose))\n",
    "dc1 = collections.Counter(traindf.purpose)\n",
    "print [(key,dc1[key]) for key in sorted(dc1, key=dc1.get,reverse=True)[:20]]"
   ]
  },
  {
   "cell_type": "code",
   "execution_count": 65,
   "metadata": {
    "collapsed": false
   },
   "outputs": [
    {
     "name": "stdout",
     "output_type": "stream",
     "text": [
      "8627\n"
     ]
    }
   ],
   "source": [
    "print len(set(traindf.title))"
   ]
  },
  {
   "cell_type": "code",
   "execution_count": 64,
   "metadata": {
    "collapsed": false
   },
   "outputs": [
    {
     "name": "stdout",
     "output_type": "stream",
     "text": [
      "769\n",
      "[('100xx', 228), ('112xx', 206), ('945xx', 200), ('606xx', 194), ('070xx', 173), ('300xx', 167), ('900xx', 166), ('021xx', 159), ('941xx', 147), ('921xx', 145)]\n"
     ]
    }
   ],
   "source": [
    "print len(set(traindf.zip_code))\n",
    "dc1 = collections.Counter(traindf.zip_code)\n",
    "print [(key,dc1[key]) for key in sorted(dc1, key=dc1.get,reverse=True)[:10]]"
   ]
  },
  {
   "cell_type": "code",
   "execution_count": 67,
   "metadata": {
    "collapsed": false
   },
   "outputs": [
    {
     "name": "stdout",
     "output_type": "stream",
     "text": [
      "50\n",
      "[('CA', 2789), ('NY', 1486), ('FL', 1195), ('TX', 1072), ('NJ', 660), ('IL', 611), ('PA', 585), ('GA', 559), ('VA', 544), ('MA', 544)]\n"
     ]
    }
   ],
   "source": [
    "print len(set(traindf.addr_state))\n",
    "dc1 = collections.Counter(traindf.addr_state)\n",
    "print [(key,dc1[key]) for key in sorted(dc1, key=dc1.get,reverse=True)[:10]]"
   ]
  },
  {
   "cell_type": "code",
   "execution_count": 68,
   "metadata": {
    "collapsed": false
   },
   "outputs": [
    {
     "name": "stdout",
     "output_type": "stream",
     "text": [
      "2709\n"
     ]
    }
   ],
   "source": [
    "print len(set(traindf.dti))"
   ]
  },
  {
   "cell_type": "code",
   "execution_count": 75,
   "metadata": {
    "collapsed": false
   },
   "outputs": [
    {
     "name": "stdout",
     "output_type": "stream",
     "text": [
      "8\n",
      "[(0, 14408), (1, 960), (2, 163), (3, 50), (4, 13), (5, 2), (6, 1), (8, 1)]\n"
     ]
    }
   ],
   "source": [
    "print len(set(traindf.delinq_2yrs))\n",
    "dc1 = collections.Counter(traindf.delinq_2yrs)\n",
    "print [(key,dc1[key]) for key in sorted(dc1, key=dc1.get,reverse=True)[:10]]"
   ]
  },
  {
   "cell_type": "code",
   "execution_count": 76,
   "metadata": {
    "collapsed": false
   },
   "outputs": [
    {
     "name": "stdout",
     "output_type": "stream",
     "text": [
      "492\n"
     ]
    }
   ],
   "source": [
    "print len(set(traindf.earliest_cr_line))"
   ]
  },
  {
   "cell_type": "code",
   "execution_count": 78,
   "metadata": {
    "collapsed": false
   },
   "outputs": [
    {
     "name": "stdout",
     "output_type": "stream",
     "text": [
      "9\n",
      "[(0, 8478), (1, 3925), (2, 1964), (3, 979), (4, 159), (5, 66), (6, 16), (7, 9), (8, 2)]\n"
     ]
    }
   ],
   "source": [
    "print len(set(traindf.inq_last_6mths))\n",
    "dc1 = collections.Counter(traindf.inq_last_6mths)\n",
    "print [(key,dc1[key]) for key in sorted(dc1, key=dc1.get,reverse=True)[:10]]"
   ]
  },
  {
   "cell_type": "code",
   "execution_count": 165,
   "metadata": {
    "collapsed": false,
    "scrolled": true
   },
   "outputs": [
    {
     "name": "stdout",
     "output_type": "stream",
     "text": [
      "11354\n",
      "[(0.0, 185), (24.0, 78), (20.0, 76), (45.0, 75), (30.0, 74), (18.0, 72), (31.0, 72), (19.0, 71), (32.0, 70), (36.0, 70), (39.0, 70), (12.0, 69), (22.0, 69), (23.0, 69), (16.0, 68), (25.0, 68), (29.0, 67), (35.0, 67), (47.0, 67), (26.0, 66), (27.0, 66), (38.0, 66), (37.0, 65), (17.0, 63), (34.0, 63), (43.0, 61), (46.0, 61), (15.0, 60), (21.0, 60), (48.0, 59), (73.0, 59), (28.0, 57), (33.0, 57), (40.0, 57), (44.0, 57), (42.0, 56), (14.0, 54), (41.0, 53), (11.0, 52), (6.0, 52), (13.0, 50), (75.0, 50), (9.0, 49), (53.0, 49), (56.0, 49), (52.0, 47), (71.0, 47), (49.0, 46), (67.0, 45), (68.0, 45), (69.0, 45), (59.0, 43), (8.0, 42), (58.0, 42), (79.0, 41), (81.0, 41), (10.0, 40), (55.0, 40), (63.0, 40), (66.0, 40), (3.0, 39), (5.0, 39), (70.0, 39), (76.0, 39), (72.0, 38), (50.0, 37), (62.0, 37), (61.0, 36), (54.0, 34), (64.0, 34), (74.0, 34), (60.0, 33), (65.0, 33), (78.0, 33), (7.0, 33), (4.0, 31), (57.0, 30), (77.0, 29), (51.0, 27), (2.0, 26), (80.0, 26), (82.0, 22), (1.0, 6), (nan, 1), (nan, 1), (nan, 1), (nan, 1), (nan, 1), (nan, 1), (nan, 1), (nan, 1), (nan, 1), (97.0, 1), (nan, 1), (nan, 1), (103.0, 1), (nan, 1), (106.0, 1), (107.0, 1), (nan, 1)]\n"
     ]
    }
   ],
   "source": [
    "#Important!!!\n",
    "#mths_since_last_delinq\n",
    "print len(set(traindf.mths_since_last_delinq))\n",
    "dc1 = collections.Counter(traindf.mths_since_last_delinq)\n",
    "print [(key,dc1[key]) for key in sorted(dc1, key=dc1.get,reverse=True)[:100]]"
   ]
  },
  {
   "cell_type": "code",
   "execution_count": 82,
   "metadata": {
    "collapsed": false
   },
   "outputs": [
    {
     "name": "stdout",
     "output_type": "stream",
     "text": [
      "14860\n",
      "[(0.0, 234), (91.0, 21), (93.0, 20), (104.0, 19), (110.0, 19), (97.0, 18), (108.0, 17), (111.0, 17), (89.0, 16), (96.0, 16)]\n"
     ]
    }
   ],
   "source": [
    "#Important!!!\n",
    "#mths_since_last_record\n",
    "print len(set(traindf.mths_since_last_record))\n",
    "dc1 = collections.Counter(traindf.mths_since_last_record)\n",
    "print [(key,dc1[key]) for key in sorted(dc1, key=dc1.get,reverse=True)[:10]]"
   ]
  },
  {
   "cell_type": "code",
   "execution_count": 84,
   "metadata": {
    "collapsed": false
   },
   "outputs": [
    {
     "name": "stdout",
     "output_type": "stream",
     "text": [
      "38\n",
      "[(6, 1714), (7, 1679), (8, 1587), (9, 1502), (10, 1304), (5, 1219), (11, 1101), (12, 938), (4, 824), (13, 755)]\n"
     ]
    }
   ],
   "source": [
    "print len(set(traindf.open_acc))\n",
    "dc1 = collections.Counter(traindf.open_acc)\n",
    "print [(key,dc1[key]) for key in sorted(dc1, key=dc1.get,reverse=True)[:10]]"
   ]
  },
  {
   "cell_type": "code",
   "execution_count": 86,
   "metadata": {
    "collapsed": false
   },
   "outputs": [
    {
     "name": "stdout",
     "output_type": "stream",
     "text": [
      "5\n",
      "[(0, 15006), (1, 580), (2, 10), (3, 1), (4, 1)]\n"
     ]
    }
   ],
   "source": [
    "print len(set(traindf.pub_rec))\n",
    "dc1 = collections.Counter(traindf.pub_rec)\n",
    "print [(key,dc1[key]) for key in sorted(dc1, key=dc1.get,reverse=True)[:10]]"
   ]
  },
  {
   "cell_type": "code",
   "execution_count": 88,
   "metadata": {
    "collapsed": false
   },
   "outputs": [
    {
     "name": "stdout",
     "output_type": "stream",
     "text": [
      "11494\n",
      "[(0, 396), (66, 8), (298, 8), (39, 7), (1, 6), (6, 6), (52, 6), (346, 6), (682, 6), (894, 6)]\n"
     ]
    }
   ],
   "source": [
    "print len(set(traindf.revol_bal))\n",
    "dc1 = collections.Counter(traindf.revol_bal)\n",
    "print [(key,dc1[key]) for key in sorted(dc1, key=dc1.get,reverse=True)[:10]]"
   ]
  },
  {
   "cell_type": "code",
   "execution_count": 192,
   "metadata": {
    "collapsed": false
   },
   "outputs": [
    {
     "name": "stdout",
     "output_type": "stream",
     "text": [
      "1021\n",
      "set([<type 'str'>, <type 'float'>])\n",
      "[nan, nan, nan, nan, nan, nan, nan]\n",
      "[('0%', 430), ('0.1%', 35), ('36.5%', 33), ('0.2%', 32), ('1%', 32), ('16.5%', 31), ('32%', 31), ('21.5%', 31), ('23.8%', 30), ('33.3%', 30), ('23.7%', 29), ('31.2%', 29), ('33.7%', 29), ('40.7%', 29), ('22.1%', 29), ('54.6%', 28), ('26.7%', 28), ('2.3%', 28), ('0.7%', 28), ('62%', 28), ('35.3%', 28), ('0.5%', 28), ('37.4%', 28), ('7.2%', 28), ('0.3%', 27), ('17.9%', 27), ('27.2%', 27), ('21.1%', 27), ('67.6%', 27), ('7.6%', 26), ('54.9%', 26), ('41.6%', 26), ('14.8%', 26), ('36.1%', 26), ('1.8%', 26), ('8.8%', 26), ('14.9%', 26), ('18.2%', 25), ('8.6%', 25), ('8.9%', 25), ('41.9%', 25), ('12.4%', 25), ('46.6%', 25), ('25.7%', 25), ('31.1%', 25), ('29.3%', 25), ('48.7%', 25), ('47.5%', 25), ('31.9%', 25), ('16.7%', 25)]\n"
     ]
    }
   ],
   "source": [
    "print len(set(traindf.revol_util))\n",
    "print set([type(i) for i in traindf.revol_util])\n",
    "\n",
    "print [i for i in traindf.revol_util if type(i) == float]\n",
    "dc1 = collections.Counter(traindf.revol_util)\n",
    "print [(key,dc1[key]) for key in sorted(dc1, key=dc1.get,reverse=True)[:50]]"
   ]
  },
  {
   "cell_type": "code",
   "execution_count": 92,
   "metadata": {
    "collapsed": false
   },
   "outputs": [
    {
     "name": "stdout",
     "output_type": "stream",
     "text": [
      "71\n",
      "[(20, 593), (15, 583), (18, 577), (17, 574), (21, 562), (13, 559), (14, 548), (16, 547), (24, 542), (22, 526)]\n"
     ]
    }
   ],
   "source": [
    "print len(set(traindf.total_acc))\n",
    "dc1 = collections.Counter(traindf.total_acc)\n",
    "print [(key,dc1[key]) for key in sorted(dc1, key=dc1.get,reverse=True)[:10]]"
   ]
  },
  {
   "cell_type": "code",
   "execution_count": 93,
   "metadata": {
    "collapsed": false
   },
   "outputs": [
    {
     "name": "stdout",
     "output_type": "stream",
     "text": [
      "1\n"
     ]
    }
   ],
   "source": [
    "print len(set(traindf.initial_list_status))\n",
    "#initial_list_status is discarded?"
   ]
  },
  {
   "cell_type": "code",
   "execution_count": 95,
   "metadata": {
    "collapsed": false
   },
   "outputs": [
    {
     "name": "stdout",
     "output_type": "stream",
     "text": [
      "2\n",
      "[(0.0, 15597), (89.950000000000003, 1)]\n"
     ]
    }
   ],
   "source": [
    "print len(set(traindf.out_prncp))\n",
    "dc1 = collections.Counter(traindf.out_prncp)\n",
    "print [(key,dc1[key]) for key in sorted(dc1, key=dc1.get,reverse=True)[:10]]\n",
    "#outlier?"
   ]
  },
  {
   "cell_type": "markdown",
   "metadata": {},
   "source": [
    "Outlier?"
   ]
  },
  {
   "cell_type": "code",
   "execution_count": 97,
   "metadata": {
    "collapsed": false
   },
   "outputs": [
    {
     "name": "stdout",
     "output_type": "stream",
     "text": [
      "2\n",
      "[(0.0, 15597), (89.950000000000003, 1)]\n"
     ]
    }
   ],
   "source": [
    "print len(set(traindf.out_prncp_inv))\n",
    "dc1 = collections.Counter(traindf.out_prncp_inv)\n",
    "print [(key,dc1[key]) for key in sorted(dc1, key=dc1.get,reverse=True)[:10]]\n",
    "#outlier?"
   ]
  },
  {
   "cell_type": "code",
   "execution_count": 99,
   "metadata": {
    "collapsed": false
   },
   "outputs": [
    {
     "name": "stdout",
     "output_type": "stream",
     "text": [
      "93\n",
      "[('Mar-2013', 452), ('Dec-2014', 439), ('Aug-2014', 413), ('Feb-2013', 393), ('Jan-2014', 387), ('May-2013', 386), ('Oct-2014', 386), ('Jul-2014', 384), ('Apr-2013', 384), ('Mar-2014', 376)]\n"
     ]
    }
   ],
   "source": [
    "print len(set(traindf.last_pymnt_d))\n",
    "dc1 = collections.Counter(traindf.last_pymnt_d)\n",
    "print [(key,dc1[key]) for key in sorted(dc1, key=dc1.get,reverse=True)[:10]]"
   ]
  },
  {
   "cell_type": "code",
   "execution_count": 101,
   "metadata": {
    "collapsed": false
   },
   "outputs": [
    {
     "name": "stdout",
     "output_type": "stream",
     "text": [
      "2\n",
      "[(nan, 15597), ('Oct-2015', 1)]\n"
     ]
    }
   ],
   "source": [
    "print len(set(traindf.next_pymnt_d))\n",
    "dc1 = collections.Counter(traindf.next_pymnt_d)\n",
    "print [(key,dc1[key]) for key in sorted(dc1, key=dc1.get,reverse=True)[:10]]\n",
    "#outlier?"
   ]
  },
  {
   "cell_type": "code",
   "execution_count": 103,
   "metadata": {
    "collapsed": false
   },
   "outputs": [
    {
     "name": "stdout",
     "output_type": "stream",
     "text": [
      "95\n",
      "[('Sep-2015', 3632), ('Feb-2013', 408), ('Dec-2014', 343), ('Aug-2014', 319), ('Oct-2014', 318), ('Jul-2015', 316), ('Jul-2014', 303), ('Nov-2014', 300), ('Jan-2014', 292), ('Mar-2014', 291)]\n"
     ]
    }
   ],
   "source": [
    "print len(set(traindf.last_credit_pull_d))\n",
    "dc1 = collections.Counter(traindf.last_credit_pull_d)\n",
    "print [(key,dc1[key]) for key in sorted(dc1, key=dc1.get,reverse=True)[:10]]"
   ]
  },
  {
   "cell_type": "code",
   "execution_count": 104,
   "metadata": {
    "collapsed": false
   },
   "outputs": [
    {
     "name": "stdout",
     "output_type": "stream",
     "text": [
      "1\n"
     ]
    }
   ],
   "source": [
    "print len(set(traindf.policy_code))\n",
    "#policy_code is discarded?"
   ]
  },
  {
   "cell_type": "code",
   "execution_count": 106,
   "metadata": {
    "collapsed": false
   },
   "outputs": [
    {
     "name": "stdout",
     "output_type": "stream",
     "text": [
      "7\n",
      "[(2, 2283), (5, 2237), (3, 2236), (1, 2219), (4, 2215), (6, 2208), (7, 2200)]\n"
     ]
    }
   ],
   "source": [
    "print len(set(traindf.random))\n",
    "dc1 = collections.Counter(traindf.random)\n",
    "print [(key,dc1[key]) for key in sorted(dc1, key=dc1.get,reverse=True)[:10]]\n",
    "#cross-validation?"
   ]
  }
 ],
 "metadata": {
  "anaconda-cloud": {},
  "kernelspec": {
   "display_name": "Python [conda root]",
   "language": "python",
   "name": "conda-root-py"
  },
  "language_info": {
   "codemirror_mode": {
    "name": "ipython",
    "version": 2
   },
   "file_extension": ".py",
   "mimetype": "text/x-python",
   "name": "python",
   "nbconvert_exporter": "python",
   "pygments_lexer": "ipython2",
   "version": "2.7.13"
  }
 },
 "nbformat": 4,
 "nbformat_minor": 1
}
